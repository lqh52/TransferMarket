{
  "nbformat": 4,
  "nbformat_minor": 0,
  "metadata": {
    "colab": {
      "name": "Basic_Model.ipynb",
      "provenance": [],
      "collapsed_sections": [],
      "toc_visible": true,
      "authorship_tag": "ABX9TyNRSVEkMtXwtze7MtoQiszT",
      "include_colab_link": true
    },
    "kernelspec": {
      "name": "python3",
      "display_name": "Python 3"
    }
  },
  "cells": [
    {
      "cell_type": "markdown",
      "metadata": {
        "id": "view-in-github",
        "colab_type": "text"
      },
      "source": [
        "<a href=\"https://colab.research.google.com/github/lqh52/TransferMarket/blob/main/Basic_Model.ipynb\" target=\"_parent\"><img src=\"https://colab.research.google.com/assets/colab-badge.svg\" alt=\"Open In Colab\"/></a>"
      ]
    },
    {
      "cell_type": "markdown",
      "metadata": {
        "id": "gcqf7FMTjiKK"
      },
      "source": [
        "## Libaries and data preparation\n"
      ]
    },
    {
      "cell_type": "code",
      "metadata": {
        "colab": {
          "base_uri": "https://localhost:8080/",
          "height": 669
        },
        "id": "tkb7nDw12YDh",
        "outputId": "78ed0503-3dc2-4a93-c4ef-23e7da93952c"
      },
      "source": [
        "import numpy as np\n",
        "import pandas as pd\n",
        "\n",
        "players = pd.read_csv('/content/train.csv')\n",
        "players.head(20)"
      ],
      "execution_count": null,
      "outputs": [
        {
          "output_type": "execute_result",
          "data": {
            "text/html": [
              "<div>\n",
              "<style scoped>\n",
              "    .dataframe tbody tr th:only-of-type {\n",
              "        vertical-align: middle;\n",
              "    }\n",
              "\n",
              "    .dataframe tbody tr th {\n",
              "        vertical-align: top;\n",
              "    }\n",
              "\n",
              "    .dataframe thead th {\n",
              "        text-align: right;\n",
              "    }\n",
              "</style>\n",
              "<table border=\"1\" class=\"dataframe\">\n",
              "  <thead>\n",
              "    <tr style=\"text-align: right;\">\n",
              "      <th></th>\n",
              "      <th>name</th>\n",
              "      <th>age</th>\n",
              "      <th>team</th>\n",
              "      <th>appearances</th>\n",
              "      <th>points_per_game</th>\n",
              "      <th>goals</th>\n",
              "      <th>assists</th>\n",
              "      <th>market_value</th>\n",
              "    </tr>\n",
              "  </thead>\n",
              "  <tbody>\n",
              "    <tr>\n",
              "      <th>0</th>\n",
              "      <td>Kylian Mbappé</td>\n",
              "      <td>22</td>\n",
              "      <td>3</td>\n",
              "      <td>33</td>\n",
              "      <td>2.30</td>\n",
              "      <td>26</td>\n",
              "      <td>9</td>\n",
              "      <td>180.0</td>\n",
              "    </tr>\n",
              "    <tr>\n",
              "      <th>1</th>\n",
              "      <td>Neymar</td>\n",
              "      <td>29</td>\n",
              "      <td>3</td>\n",
              "      <td>18</td>\n",
              "      <td>2.06</td>\n",
              "      <td>13</td>\n",
              "      <td>6</td>\n",
              "      <td>128.0</td>\n",
              "    </tr>\n",
              "    <tr>\n",
              "      <th>2</th>\n",
              "      <td>Sadio Mané</td>\n",
              "      <td>28</td>\n",
              "      <td>1</td>\n",
              "      <td>36</td>\n",
              "      <td>1.72</td>\n",
              "      <td>12</td>\n",
              "      <td>5</td>\n",
              "      <td>120.0</td>\n",
              "    </tr>\n",
              "    <tr>\n",
              "      <th>3</th>\n",
              "      <td>Mohamed Salah</td>\n",
              "      <td>28</td>\n",
              "      <td>1</td>\n",
              "      <td>39</td>\n",
              "      <td>1.59</td>\n",
              "      <td>25</td>\n",
              "      <td>4</td>\n",
              "      <td>120.0</td>\n",
              "    </tr>\n",
              "    <tr>\n",
              "      <th>4</th>\n",
              "      <td>Harry Kane</td>\n",
              "      <td>27</td>\n",
              "      <td>10</td>\n",
              "      <td>36</td>\n",
              "      <td>2.00</td>\n",
              "      <td>24</td>\n",
              "      <td>16</td>\n",
              "      <td>120.0</td>\n",
              "    </tr>\n",
              "    <tr>\n",
              "      <th>5</th>\n",
              "      <td>Erling Haaland</td>\n",
              "      <td>20</td>\n",
              "      <td>13</td>\n",
              "      <td>29</td>\n",
              "      <td>1.86</td>\n",
              "      <td>31</td>\n",
              "      <td>8</td>\n",
              "      <td>110.0</td>\n",
              "    </tr>\n",
              "    <tr>\n",
              "      <th>6</th>\n",
              "      <td>Raheem Sterling</td>\n",
              "      <td>26</td>\n",
              "      <td>2</td>\n",
              "      <td>36</td>\n",
              "      <td>2.42</td>\n",
              "      <td>13</td>\n",
              "      <td>10</td>\n",
              "      <td>110.0</td>\n",
              "    </tr>\n",
              "    <tr>\n",
              "      <th>7</th>\n",
              "      <td>João Félix</td>\n",
              "      <td>21</td>\n",
              "      <td>7</td>\n",
              "      <td>31</td>\n",
              "      <td>2.06</td>\n",
              "      <td>10</td>\n",
              "      <td>5</td>\n",
              "      <td>100.0</td>\n",
              "    </tr>\n",
              "    <tr>\n",
              "      <th>8</th>\n",
              "      <td>Jadon Sancho</td>\n",
              "      <td>20</td>\n",
              "      <td>13</td>\n",
              "      <td>31</td>\n",
              "      <td>1.87</td>\n",
              "      <td>12</td>\n",
              "      <td>16</td>\n",
              "      <td>100.0</td>\n",
              "    </tr>\n",
              "    <tr>\n",
              "      <th>9</th>\n",
              "      <td>Romelu Lukaku</td>\n",
              "      <td>27</td>\n",
              "      <td>12</td>\n",
              "      <td>33</td>\n",
              "      <td>2.24</td>\n",
              "      <td>24</td>\n",
              "      <td>7</td>\n",
              "      <td>90.0</td>\n",
              "    </tr>\n",
              "    <tr>\n",
              "      <th>10</th>\n",
              "      <td>Heung-min Son</td>\n",
              "      <td>28</td>\n",
              "      <td>10</td>\n",
              "      <td>39</td>\n",
              "      <td>1.87</td>\n",
              "      <td>18</td>\n",
              "      <td>16</td>\n",
              "      <td>90.0</td>\n",
              "    </tr>\n",
              "    <tr>\n",
              "      <th>11</th>\n",
              "      <td>Ansu Fati</td>\n",
              "      <td>18</td>\n",
              "      <td>5</td>\n",
              "      <td>10</td>\n",
              "      <td>2.00</td>\n",
              "      <td>5</td>\n",
              "      <td>4</td>\n",
              "      <td>80.0</td>\n",
              "    </tr>\n",
              "    <tr>\n",
              "      <th>12</th>\n",
              "      <td>Marcus Rashford</td>\n",
              "      <td>23</td>\n",
              "      <td>9</td>\n",
              "      <td>43</td>\n",
              "      <td>1.98</td>\n",
              "      <td>18</td>\n",
              "      <td>12</td>\n",
              "      <td>80.0</td>\n",
              "    </tr>\n",
              "    <tr>\n",
              "      <th>13</th>\n",
              "      <td>Lionel Messi</td>\n",
              "      <td>33</td>\n",
              "      <td>5</td>\n",
              "      <td>35</td>\n",
              "      <td>2.03</td>\n",
              "      <td>25</td>\n",
              "      <td>11</td>\n",
              "      <td>80.0</td>\n",
              "    </tr>\n",
              "    <tr>\n",
              "      <th>14</th>\n",
              "      <td>Roberto Firmino</td>\n",
              "      <td>29</td>\n",
              "      <td>1</td>\n",
              "      <td>37</td>\n",
              "      <td>1.68</td>\n",
              "      <td>6</td>\n",
              "      <td>7</td>\n",
              "      <td>72.0</td>\n",
              "    </tr>\n",
              "    <tr>\n",
              "      <th>15</th>\n",
              "      <td>Lautaro Martínez</td>\n",
              "      <td>23</td>\n",
              "      <td>12</td>\n",
              "      <td>36</td>\n",
              "      <td>2.08</td>\n",
              "      <td>15</td>\n",
              "      <td>8</td>\n",
              "      <td>70.0</td>\n",
              "    </tr>\n",
              "    <tr>\n",
              "      <th>16</th>\n",
              "      <td>Mikel Oyarzabal</td>\n",
              "      <td>23</td>\n",
              "      <td>28</td>\n",
              "      <td>31</td>\n",
              "      <td>1.77</td>\n",
              "      <td>12</td>\n",
              "      <td>8</td>\n",
              "      <td>70.0</td>\n",
              "    </tr>\n",
              "    <tr>\n",
              "      <th>17</th>\n",
              "      <td>Bernardo Silva</td>\n",
              "      <td>26</td>\n",
              "      <td>2</td>\n",
              "      <td>32</td>\n",
              "      <td>2.66</td>\n",
              "      <td>5</td>\n",
              "      <td>5</td>\n",
              "      <td>70.0</td>\n",
              "    </tr>\n",
              "    <tr>\n",
              "      <th>18</th>\n",
              "      <td>Paulo Dybala</td>\n",
              "      <td>27</td>\n",
              "      <td>11</td>\n",
              "      <td>16</td>\n",
              "      <td>2.31</td>\n",
              "      <td>3</td>\n",
              "      <td>2</td>\n",
              "      <td>70.0</td>\n",
              "    </tr>\n",
              "    <tr>\n",
              "      <th>19</th>\n",
              "      <td>Timo Werner</td>\n",
              "      <td>25</td>\n",
              "      <td>6</td>\n",
              "      <td>37</td>\n",
              "      <td>1.95</td>\n",
              "      <td>10</td>\n",
              "      <td>9</td>\n",
              "      <td>70.0</td>\n",
              "    </tr>\n",
              "  </tbody>\n",
              "</table>\n",
              "</div>"
            ],
            "text/plain": [
              "                name  age  team  ...  goals  assists  market_value\n",
              "0      Kylian Mbappé   22     3  ...     26        9         180.0\n",
              "1             Neymar   29     3  ...     13        6         128.0\n",
              "2         Sadio Mané   28     1  ...     12        5         120.0\n",
              "3      Mohamed Salah   28     1  ...     25        4         120.0\n",
              "4         Harry Kane   27    10  ...     24       16         120.0\n",
              "5     Erling Haaland   20    13  ...     31        8         110.0\n",
              "6    Raheem Sterling   26     2  ...     13       10         110.0\n",
              "7         João Félix   21     7  ...     10        5         100.0\n",
              "8       Jadon Sancho   20    13  ...     12       16         100.0\n",
              "9      Romelu Lukaku   27    12  ...     24        7          90.0\n",
              "10     Heung-min Son   28    10  ...     18       16          90.0\n",
              "11         Ansu Fati   18     5  ...      5        4          80.0\n",
              "12   Marcus Rashford   23     9  ...     18       12          80.0\n",
              "13      Lionel Messi   33     5  ...     25       11          80.0\n",
              "14   Roberto Firmino   29     1  ...      6        7          72.0\n",
              "15  Lautaro Martínez   23    12  ...     15        8          70.0\n",
              "16   Mikel Oyarzabal   23    28  ...     12        8          70.0\n",
              "17    Bernardo Silva   26     2  ...      5        5          70.0\n",
              "18      Paulo Dybala   27    11  ...      3        2          70.0\n",
              "19       Timo Werner   25     6  ...     10        9          70.0\n",
              "\n",
              "[20 rows x 8 columns]"
            ]
          },
          "metadata": {
            "tags": []
          },
          "execution_count": 4
        }
      ]
    },
    {
      "cell_type": "code",
      "metadata": {
        "id": "YX20zquT5SF2"
      },
      "source": [
        "players['team'] = 1/(1 + np.log(players['team'])) #Re-scale "
      ],
      "execution_count": null,
      "outputs": []
    },
    {
      "cell_type": "code",
      "metadata": {
        "colab": {
          "base_uri": "https://localhost:8080/",
          "height": 204
        },
        "id": "DrSDU2OCk3F7",
        "outputId": "fdb465d4-be43-4b72-a099-f7215ff86fea"
      },
      "source": [
        "players.head()"
      ],
      "execution_count": null,
      "outputs": [
        {
          "output_type": "execute_result",
          "data": {
            "text/html": [
              "<div>\n",
              "<style scoped>\n",
              "    .dataframe tbody tr th:only-of-type {\n",
              "        vertical-align: middle;\n",
              "    }\n",
              "\n",
              "    .dataframe tbody tr th {\n",
              "        vertical-align: top;\n",
              "    }\n",
              "\n",
              "    .dataframe thead th {\n",
              "        text-align: right;\n",
              "    }\n",
              "</style>\n",
              "<table border=\"1\" class=\"dataframe\">\n",
              "  <thead>\n",
              "    <tr style=\"text-align: right;\">\n",
              "      <th></th>\n",
              "      <th>name</th>\n",
              "      <th>age</th>\n",
              "      <th>team</th>\n",
              "      <th>appearances</th>\n",
              "      <th>points_per_game</th>\n",
              "      <th>goals</th>\n",
              "      <th>assists</th>\n",
              "      <th>market_value</th>\n",
              "    </tr>\n",
              "  </thead>\n",
              "  <tbody>\n",
              "    <tr>\n",
              "      <th>0</th>\n",
              "      <td>Kylian Mbappé</td>\n",
              "      <td>22</td>\n",
              "      <td>0.476505</td>\n",
              "      <td>33</td>\n",
              "      <td>2.30</td>\n",
              "      <td>26</td>\n",
              "      <td>9</td>\n",
              "      <td>180.0</td>\n",
              "    </tr>\n",
              "    <tr>\n",
              "      <th>1</th>\n",
              "      <td>Neymar</td>\n",
              "      <td>29</td>\n",
              "      <td>0.476505</td>\n",
              "      <td>18</td>\n",
              "      <td>2.06</td>\n",
              "      <td>13</td>\n",
              "      <td>6</td>\n",
              "      <td>128.0</td>\n",
              "    </tr>\n",
              "    <tr>\n",
              "      <th>2</th>\n",
              "      <td>Sadio Mané</td>\n",
              "      <td>28</td>\n",
              "      <td>1.000000</td>\n",
              "      <td>36</td>\n",
              "      <td>1.72</td>\n",
              "      <td>12</td>\n",
              "      <td>5</td>\n",
              "      <td>120.0</td>\n",
              "    </tr>\n",
              "    <tr>\n",
              "      <th>3</th>\n",
              "      <td>Mohamed Salah</td>\n",
              "      <td>28</td>\n",
              "      <td>1.000000</td>\n",
              "      <td>39</td>\n",
              "      <td>1.59</td>\n",
              "      <td>25</td>\n",
              "      <td>4</td>\n",
              "      <td>120.0</td>\n",
              "    </tr>\n",
              "    <tr>\n",
              "      <th>4</th>\n",
              "      <td>Harry Kane</td>\n",
              "      <td>27</td>\n",
              "      <td>0.302793</td>\n",
              "      <td>36</td>\n",
              "      <td>2.00</td>\n",
              "      <td>24</td>\n",
              "      <td>16</td>\n",
              "      <td>120.0</td>\n",
              "    </tr>\n",
              "  </tbody>\n",
              "</table>\n",
              "</div>"
            ],
            "text/plain": [
              "            name  age      team  ...  goals  assists  market_value\n",
              "0  Kylian Mbappé   22  0.476505  ...     26        9         180.0\n",
              "1         Neymar   29  0.476505  ...     13        6         128.0\n",
              "2     Sadio Mané   28  1.000000  ...     12        5         120.0\n",
              "3  Mohamed Salah   28  1.000000  ...     25        4         120.0\n",
              "4     Harry Kane   27  0.302793  ...     24       16         120.0\n",
              "\n",
              "[5 rows x 8 columns]"
            ]
          },
          "metadata": {
            "tags": []
          },
          "execution_count": 7
        }
      ]
    },
    {
      "cell_type": "code",
      "metadata": {
        "id": "qJt1-XF0lJ6h"
      },
      "source": [
        "players['goals'] = players['goals']*players['team']\n",
        "players['assists'] = players['assists']*players['team']\n",
        "players['points_per_game'] = players['points_per_game']*players['team']"
      ],
      "execution_count": null,
      "outputs": []
    },
    {
      "cell_type": "code",
      "metadata": {
        "id": "1AWRR5atlvPJ"
      },
      "source": [
        "df = players.drop(columns = ['name', 'appearances', 'team'])"
      ],
      "execution_count": null,
      "outputs": []
    },
    {
      "cell_type": "code",
      "metadata": {
        "id": "FnffHpeTnAP5"
      },
      "source": [
        "df = df.iloc[10:50,:]"
      ],
      "execution_count": null,
      "outputs": []
    },
    {
      "cell_type": "code",
      "metadata": {
        "colab": {
          "base_uri": "https://localhost:8080/",
          "height": 204
        },
        "id": "VEQL4Pz5mXf2",
        "outputId": "99b2f342-77dc-44a7-85e4-df213ad47c61"
      },
      "source": [
        "df.head()"
      ],
      "execution_count": null,
      "outputs": [
        {
          "output_type": "execute_result",
          "data": {
            "text/html": [
              "<div>\n",
              "<style scoped>\n",
              "    .dataframe tbody tr th:only-of-type {\n",
              "        vertical-align: middle;\n",
              "    }\n",
              "\n",
              "    .dataframe tbody tr th {\n",
              "        vertical-align: top;\n",
              "    }\n",
              "\n",
              "    .dataframe thead th {\n",
              "        text-align: right;\n",
              "    }\n",
              "</style>\n",
              "<table border=\"1\" class=\"dataframe\">\n",
              "  <thead>\n",
              "    <tr style=\"text-align: right;\">\n",
              "      <th></th>\n",
              "      <th>age</th>\n",
              "      <th>points_per_game</th>\n",
              "      <th>goals</th>\n",
              "      <th>assists</th>\n",
              "      <th>market_value</th>\n",
              "    </tr>\n",
              "  </thead>\n",
              "  <tbody>\n",
              "    <tr>\n",
              "      <th>10</th>\n",
              "      <td>28</td>\n",
              "      <td>0.566223</td>\n",
              "      <td>5.450276</td>\n",
              "      <td>4.844690</td>\n",
              "      <td>90.0</td>\n",
              "    </tr>\n",
              "    <tr>\n",
              "      <th>11</th>\n",
              "      <td>18</td>\n",
              "      <td>0.766449</td>\n",
              "      <td>1.916121</td>\n",
              "      <td>1.532897</td>\n",
              "      <td>80.0</td>\n",
              "    </tr>\n",
              "    <tr>\n",
              "      <th>12</th>\n",
              "      <td>23</td>\n",
              "      <td>0.619287</td>\n",
              "      <td>5.629883</td>\n",
              "      <td>3.753255</td>\n",
              "      <td>80.0</td>\n",
              "    </tr>\n",
              "    <tr>\n",
              "      <th>13</th>\n",
              "      <td>33</td>\n",
              "      <td>0.777945</td>\n",
              "      <td>9.580607</td>\n",
              "      <td>4.215467</td>\n",
              "      <td>80.0</td>\n",
              "    </tr>\n",
              "    <tr>\n",
              "      <th>14</th>\n",
              "      <td>29</td>\n",
              "      <td>1.680000</td>\n",
              "      <td>6.000000</td>\n",
              "      <td>7.000000</td>\n",
              "      <td>72.0</td>\n",
              "    </tr>\n",
              "  </tbody>\n",
              "</table>\n",
              "</div>"
            ],
            "text/plain": [
              "    age  points_per_game     goals   assists  market_value\n",
              "10   28         0.566223  5.450276  4.844690          90.0\n",
              "11   18         0.766449  1.916121  1.532897          80.0\n",
              "12   23         0.619287  5.629883  3.753255          80.0\n",
              "13   33         0.777945  9.580607  4.215467          80.0\n",
              "14   29         1.680000  6.000000  7.000000          72.0"
            ]
          },
          "metadata": {
            "tags": []
          },
          "execution_count": 39
        }
      ]
    },
    {
      "cell_type": "code",
      "metadata": {
        "id": "OF72Iu-nmYsT"
      },
      "source": [
        "#Tách data set thành training set và test set\n",
        "msk = np.random.rand(len(df)) < 0.8\n",
        "train = df[msk]\n",
        "test = df[~msk]"
      ],
      "execution_count": null,
      "outputs": []
    },
    {
      "cell_type": "code",
      "metadata": {
        "id": "o9iGjcGNmfda"
      },
      "source": [
        "X_train = train.iloc[:,0:4]\n",
        "Y_train = train.iloc[:,4]\n",
        "# print(X_train)\n",
        "# print(Y_train)"
      ],
      "execution_count": null,
      "outputs": []
    },
    {
      "cell_type": "code",
      "metadata": {
        "id": "-AwV0kthmkmS"
      },
      "source": [
        "# Building Xbar \n",
        "one = np.ones((X_train.shape[0], 1))\n",
        "Xbar_train = np.concatenate((one, X_train), axis = 1)"
      ],
      "execution_count": null,
      "outputs": []
    },
    {
      "cell_type": "code",
      "metadata": {
        "colab": {
          "base_uri": "https://localhost:8080/"
        },
        "id": "r0EHwKvemqqH",
        "outputId": "b491f752-66f9-444a-9e98-2e9fb9306aef"
      },
      "source": [
        "# Tính theo công thức\n",
        "A = np.dot(Xbar_train.T, Xbar_train)\n",
        "b = np.dot(Xbar_train.T, Y_train)\n",
        "w = np.dot(np.linalg.pinv(A), b)\n",
        "print('w = ', w)"
      ],
      "execution_count": null,
      "outputs": [
        {
          "output_type": "stream",
          "text": [
            "w =  [64.61363586 -0.4804419  -8.54463536  1.20344026  3.77644572]\n"
          ],
          "name": "stdout"
        }
      ]
    },
    {
      "cell_type": "code",
      "metadata": {
        "colab": {
          "base_uri": "https://localhost:8080/"
        },
        "id": "3aTjXi75msn2",
        "outputId": "9e2d1ccc-c74b-4de7-8c30-43a5315a145d"
      },
      "source": [
        "#Thử đưa vào test set\n",
        "X_test = test.iloc[:,0:4]\n",
        "Y_test = test.iloc[:,4]\n",
        "\n",
        "\n",
        "one = np.ones((X_test.shape[0], 1))\n",
        "Xbar_test = np.concatenate((one, X_test), axis = 1)\n",
        "\n",
        "avgError = 0\n",
        "\n",
        "for i in range(X_test.shape[0]):\n",
        "  x_test = Xbar_test[i,0:5].T\n",
        "  y_predict = np.dot(x_test, w)\n",
        "  print('y predict: {}, y real: {}'.format(y_predict, Y_test.iloc[i]))\n",
        "  avgError += abs(y_predict - Y_test.iloc[i])\n",
        "\n",
        "print(avgError/X_test.shape[0])"
      ],
      "execution_count": null,
      "outputs": [
        {
          "output_type": "stream",
          "text": [
            "y predict: 53.404196832809795, y real: 70.0\n",
            "y predict: 65.42180523914502, y real: 60.0\n",
            "y predict: 61.581955047603486, y real: 50.0\n",
            "y predict: 52.532745972010986, y real: 50.0\n",
            "y predict: 63.62178058873313, y real: 50.0\n",
            "y predict: 47.321659963637295, y real: 50.0\n",
            "y predict: 62.5102205947754, y real: 48.0\n",
            "y predict: 55.29056297480992, y real: 45.0\n",
            "9.654151702578854\n"
          ],
          "name": "stdout"
        }
      ]
    },
    {
      "cell_type": "code",
      "metadata": {
        "id": "mJZ_RCHYzCkd"
      },
      "source": [
        ""
      ],
      "execution_count": null,
      "outputs": []
    }
  ]
}