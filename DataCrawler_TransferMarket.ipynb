{
  "nbformat": 4,
  "nbformat_minor": 0,
  "metadata": {
    "colab": {
      "name": "DataCrawler_TransferMarket.ipynb",
      "provenance": [],
      "collapsed_sections": [],
      "authorship_tag": "ABX9TyPPKPxni/1hj7cIvUFPk3bM",
      "include_colab_link": true
    },
    "kernelspec": {
      "display_name": "Python 3",
      "name": "python3"
    }
  },
  "cells": [
    {
      "cell_type": "markdown",
      "metadata": {
        "id": "view-in-github",
        "colab_type": "text"
      },
      "source": [
        "<a href=\"https://colab.research.google.com/github/lqh52/TransferMarket/blob/main/DataCrawler_TransferMarket.ipynb\" target=\"_parent\"><img src=\"https://colab.research.google.com/assets/colab-badge.svg\" alt=\"Open In Colab\"/></a>"
      ]
    },
    {
      "cell_type": "code",
      "metadata": {
        "colab": {
          "base_uri": "https://localhost:8080/"
        },
        "id": "9hrZ_AEbRznt",
        "outputId": "b065838a-960f-42cb-95a4-2be983de63bd"
      },
      "source": [
        "!apt install chromium-chromedriver\n",
        "!cp /usr/lib/chromium-browser/chromedriver /usr/bin\n",
        "!pip install selenium"
      ],
      "execution_count": null,
      "outputs": [
        {
          "output_type": "stream",
          "text": [
            "Reading package lists... Done\n",
            "Building dependency tree       \n",
            "Reading state information... Done\n",
            "chromium-chromedriver is already the newest version (87.0.4280.66-0ubuntu0.18.04.1).\n",
            "0 upgraded, 0 newly installed, 0 to remove and 29 not upgraded.\n",
            "cp: '/usr/lib/chromium-browser/chromedriver' and '/usr/bin/chromedriver' are the same file\n",
            "Requirement already satisfied: selenium in /usr/local/lib/python3.7/dist-packages (3.141.0)\n",
            "Requirement already satisfied: urllib3 in /usr/local/lib/python3.7/dist-packages (from selenium) (1.24.3)\n"
          ],
          "name": "stdout"
        }
      ]
    },
    {
      "cell_type": "code",
      "metadata": {
        "id": "Vm9v4y9uWyFK"
      },
      "source": [
        "from selenium import webdriver\n",
        "import pandas as pd\n",
        "from bs4 import BeautifulSoup\n",
        "import re"
      ],
      "execution_count": null,
      "outputs": []
    },
    {
      "cell_type": "code",
      "metadata": {
        "id": "OyM9NC32XJTG"
      },
      "source": [
        "options = webdriver.ChromeOptions()\n",
        "options.add_argument('-headless')\n",
        "options.add_argument('-no-sandbox')\n",
        "options.add_argument('disable-dev-shm-usage')"
      ],
      "execution_count": null,
      "outputs": []
    },
    {
      "cell_type": "code",
      "metadata": {
        "id": "7xag_RIuX15f"
      },
      "source": [
        "player_id = []\n",
        "player_name = []\n",
        "market_value = []\n",
        "player_age = []\n",
        "player_team = []\n",
        "goals = []\n",
        "assists = []\n",
        "appearances = []\n",
        "points_per_game = []\n",
        "for page in range(1,5):\n",
        "  url = \"https://www.transfermarkt.com/spieler-statistik/wertvollstespieler/marktwertetop?ajax=yw1&altersklasse=alle&ausrichtung=Sturm&jahrgang=0&kontinent_id=0&land_id=0&page={}&plus=1&spielerposition_id=alle\".format(page)\n",
        "  wd = webdriver.Chrome('chromedriver', options=options)\n",
        "  wd.get(url)\n",
        "  soup = BeautifulSoup(wd.page_source)\n",
        "  table = soup.find_all('table',{'class': 'items'})\n",
        "  rows = table[0].find_all('tr', {'class': ['odd', 'even']})\n",
        "\n",
        "  tmp_player_id = []\n",
        "  for row in rows:\n",
        "    tds = row.find_all('td')\n",
        "    tmp_player_id.append(tds[1].find('a', {'class': ['spielprofil_tooltip tooltipstered']}).get('id'))\n",
        "    player_id.append(tds[1].find('a', {'class': ['spielprofil_tooltip tooltipstered']}).get('id'))\n",
        "    player_name.append(tds[1].find('a', {'class': ['spielprofil_tooltip tooltipstered']}).text)\n",
        "    market_value.append(tds[8].text.strip('\\xa0'))\n",
        "    player_age.append(tds[5].text)\n",
        "    player_team.append(tds[7].find('img').get('alt'))\n",
        "\n",
        "  for id in tmp_player_id:\n",
        "    url_player = 'https://www.transfermarkt.com/kylian-mbappe/leistungsdatendetails/spieler/{}/saison/2020/verein/0/liga/0/wettbewerb//pos/0/trainer_id/0/plus/1'.format(id)\n",
        "    wd.get(url_player)\n",
        "    goal = wd.find_element_by_xpath('/html/body/div[2]/div[11]/div/div[1]/div[4]/div/table/tfoot/tr/td[7]').text\n",
        "    assist = wd.find_element_by_xpath('/html/body/div[2]/div[11]/div/div[1]/div[4]/div/table/tfoot/tr/td[8]').text\n",
        "    appearance = wd.find_element_by_xpath('/html/body/div[2]/div[11]/div/div[1]/div[4]/div/table/tfoot/tr/td[5]').text\n",
        "    ppg = wd.find_element_by_xpath('/html/body/div[2]/div[11]/div/div[1]/div[4]/div/table/tfoot/tr/td[6]').text\n",
        "    goals.append(goal)\n",
        "    assists.append(assist)\n",
        "    appearances.append(appearance)\n",
        "    points_per_game.append(ppg)"
      ],
      "execution_count": null,
      "outputs": []
    },
    {
      "cell_type": "code",
      "metadata": {
        "id": "0JTpSDuTzcXd"
      },
      "source": [
        "df_2020 = pd.DataFrame({'id': player_id, 'name':player_name, 'age':player_age, 'team':player_team, 'appearances':appearances, 'points_per_game':points_per_game, 'goals':goals, 'assists':assists, 'market_value':market_value})"
      ],
      "execution_count": null,
      "outputs": []
    },
    {
      "cell_type": "code",
      "metadata": {
        "colab": {
          "base_uri": "https://localhost:8080/",
          "height": 419
        },
        "id": "tp1eVf6c5En2",
        "outputId": "736e6c55-e1cb-4ca1-fd55-91002b41bffa"
      },
      "source": [
        "df_2020"
      ],
      "execution_count": null,
      "outputs": [
        {
          "output_type": "execute_result",
          "data": {
            "text/html": [
              "<div>\n",
              "<style scoped>\n",
              "    .dataframe tbody tr th:only-of-type {\n",
              "        vertical-align: middle;\n",
              "    }\n",
              "\n",
              "    .dataframe tbody tr th {\n",
              "        vertical-align: top;\n",
              "    }\n",
              "\n",
              "    .dataframe thead th {\n",
              "        text-align: right;\n",
              "    }\n",
              "</style>\n",
              "<table border=\"1\" class=\"dataframe\">\n",
              "  <thead>\n",
              "    <tr style=\"text-align: right;\">\n",
              "      <th></th>\n",
              "      <th>id</th>\n",
              "      <th>name</th>\n",
              "      <th>age</th>\n",
              "      <th>team</th>\n",
              "      <th>appearances</th>\n",
              "      <th>points_per_game</th>\n",
              "      <th>goals</th>\n",
              "      <th>assists</th>\n",
              "      <th>market_value</th>\n",
              "    </tr>\n",
              "  </thead>\n",
              "  <tbody>\n",
              "    <tr>\n",
              "      <th>0</th>\n",
              "      <td>342229</td>\n",
              "      <td>Kylian Mbappé</td>\n",
              "      <td>22</td>\n",
              "      <td>Paris Saint-Germain</td>\n",
              "      <td>33</td>\n",
              "      <td>2.30</td>\n",
              "      <td>26</td>\n",
              "      <td>9</td>\n",
              "      <td>€180.00m</td>\n",
              "    </tr>\n",
              "    <tr>\n",
              "      <th>1</th>\n",
              "      <td>68290</td>\n",
              "      <td>Neymar</td>\n",
              "      <td>29</td>\n",
              "      <td>Paris Saint-Germain</td>\n",
              "      <td>18</td>\n",
              "      <td>2.06</td>\n",
              "      <td>13</td>\n",
              "      <td>6</td>\n",
              "      <td>€128.00m</td>\n",
              "    </tr>\n",
              "    <tr>\n",
              "      <th>2</th>\n",
              "      <td>200512</td>\n",
              "      <td>Sadio Mané</td>\n",
              "      <td>28</td>\n",
              "      <td>Liverpool FC</td>\n",
              "      <td>36</td>\n",
              "      <td>1.72</td>\n",
              "      <td>12</td>\n",
              "      <td>5</td>\n",
              "      <td>€120.00m</td>\n",
              "    </tr>\n",
              "    <tr>\n",
              "      <th>3</th>\n",
              "      <td>148455</td>\n",
              "      <td>Mohamed Salah</td>\n",
              "      <td>28</td>\n",
              "      <td>Liverpool FC</td>\n",
              "      <td>39</td>\n",
              "      <td>1.59</td>\n",
              "      <td>25</td>\n",
              "      <td>4</td>\n",
              "      <td>€120.00m</td>\n",
              "    </tr>\n",
              "    <tr>\n",
              "      <th>4</th>\n",
              "      <td>132098</td>\n",
              "      <td>Harry Kane</td>\n",
              "      <td>27</td>\n",
              "      <td>Tottenham Hotspur</td>\n",
              "      <td>36</td>\n",
              "      <td>2.00</td>\n",
              "      <td>24</td>\n",
              "      <td>16</td>\n",
              "      <td>€120.00m</td>\n",
              "    </tr>\n",
              "    <tr>\n",
              "      <th>...</th>\n",
              "      <td>...</td>\n",
              "      <td>...</td>\n",
              "      <td>...</td>\n",
              "      <td>...</td>\n",
              "      <td>...</td>\n",
              "      <td>...</td>\n",
              "      <td>...</td>\n",
              "      <td>...</td>\n",
              "      <td>...</td>\n",
              "    </tr>\n",
              "    <tr>\n",
              "      <th>95</th>\n",
              "      <td>82009</td>\n",
              "      <td>Kevin Volland</td>\n",
              "      <td>28</td>\n",
              "      <td>AS Monaco</td>\n",
              "      <td>27</td>\n",
              "      <td>2.00</td>\n",
              "      <td>14</td>\n",
              "      <td>8</td>\n",
              "      <td>€28.00m</td>\n",
              "    </tr>\n",
              "    <tr>\n",
              "      <th>96</th>\n",
              "      <td>45320</td>\n",
              "      <td>Ángel Di María</td>\n",
              "      <td>33</td>\n",
              "      <td>Paris Saint-Germain</td>\n",
              "      <td>27</td>\n",
              "      <td>2.04</td>\n",
              "      <td>5</td>\n",
              "      <td>12</td>\n",
              "      <td>€28.00m</td>\n",
              "    </tr>\n",
              "    <tr>\n",
              "      <th>97</th>\n",
              "      <td>487465</td>\n",
              "      <td>Pedro Neto</td>\n",
              "      <td>21</td>\n",
              "      <td>Wolverhampton Wanderers</td>\n",
              "      <td>32</td>\n",
              "      <td>1.28</td>\n",
              "      <td>5</td>\n",
              "      <td>4</td>\n",
              "      <td>€27.00m</td>\n",
              "    </tr>\n",
              "    <tr>\n",
              "      <th>98</th>\n",
              "      <td>242631</td>\n",
              "      <td>Alex Iwobi</td>\n",
              "      <td>24</td>\n",
              "      <td>Everton FC</td>\n",
              "      <td>29</td>\n",
              "      <td>1.90</td>\n",
              "      <td>2</td>\n",
              "      <td>3</td>\n",
              "      <td>€25.50m</td>\n",
              "    </tr>\n",
              "    <tr>\n",
              "      <th>99</th>\n",
              "      <td>655488</td>\n",
              "      <td>Gabriel Martinelli</td>\n",
              "      <td>19</td>\n",
              "      <td>Arsenal FC</td>\n",
              "      <td>9</td>\n",
              "      <td>1.22</td>\n",
              "      <td>-</td>\n",
              "      <td>1</td>\n",
              "      <td>€25.00m</td>\n",
              "    </tr>\n",
              "  </tbody>\n",
              "</table>\n",
              "<p>100 rows × 9 columns</p>\n",
              "</div>"
            ],
            "text/plain": [
              "        id                name age  ... goals assists market_value\n",
              "0   342229       Kylian Mbappé  22  ...    26       9     €180.00m\n",
              "1    68290              Neymar  29  ...    13       6     €128.00m\n",
              "2   200512          Sadio Mané  28  ...    12       5     €120.00m\n",
              "3   148455       Mohamed Salah  28  ...    25       4     €120.00m\n",
              "4   132098          Harry Kane  27  ...    24      16     €120.00m\n",
              "..     ...                 ...  ..  ...   ...     ...          ...\n",
              "95   82009       Kevin Volland  28  ...    14       8      €28.00m\n",
              "96   45320      Ángel Di María  33  ...     5      12      €28.00m\n",
              "97  487465          Pedro Neto  21  ...     5       4      €27.00m\n",
              "98  242631          Alex Iwobi  24  ...     2       3      €25.50m\n",
              "99  655488  Gabriel Martinelli  19  ...     -       1      €25.00m\n",
              "\n",
              "[100 rows x 9 columns]"
            ]
          },
          "metadata": {
            "tags": []
          },
          "execution_count": 6
        }
      ]
    },
    {
      "cell_type": "code",
      "metadata": {
        "id": "1i8QbyH1OILJ"
      },
      "source": [
        "df_2020.to_csv('2020', index = False)"
      ],
      "execution_count": null,
      "outputs": []
    },
    {
      "cell_type": "code",
      "metadata": {
        "id": "BsEJObqZ9Jqo"
      },
      "source": [
        "goals = []\n",
        "assists = []\n",
        "appearances = []\n",
        "points_per_game = []\n",
        "for id in player_id:\n",
        "  url_player = 'https://www.transfermarkt.com/kylian-mbappe/leistungsdatendetails/spieler/{}/saison/2019/verein/0/liga/0/wettbewerb//pos/0/trainer_id/0/plus/1'.format(id)\n",
        "  wd.get(url_player)\n",
        "  goal = wd.find_element_by_xpath('/html/body/div[2]/div[11]/div/div[1]/div[4]/div/table/tfoot/tr/td[7]').text\n",
        "  assist = wd.find_element_by_xpath('/html/body/div[2]/div[11]/div/div[1]/div[4]/div/table/tfoot/tr/td[8]').text\n",
        "  appearance = wd.find_element_by_xpath('/html/body/div[2]/div[11]/div/div[1]/div[4]/div/table/tfoot/tr/td[5]').text\n",
        "  ppg = wd.find_element_by_xpath('/html/body/div[2]/div[11]/div/div[1]/div[4]/div/table/tfoot/tr/td[6]').text\n",
        "  goals.append(goal)\n",
        "  assists.append(assist)\n",
        "  appearances.append(appearance)\n",
        "  points_per_game.append(ppg)"
      ],
      "execution_count": null,
      "outputs": []
    },
    {
      "cell_type": "code",
      "metadata": {
        "id": "N8HvTvGVBOy8"
      },
      "source": [
        "df_2019 = pd.DataFrame({'id': player_id, 'name':player_name, 'appearances':appearances, 'points_per_game':points_per_game, 'goals':goals, 'assists':assists})"
      ],
      "execution_count": null,
      "outputs": []
    },
    {
      "cell_type": "code",
      "metadata": {
        "colab": {
          "base_uri": "https://localhost:8080/",
          "height": 419
        },
        "id": "S9-zzsoQBkHy",
        "outputId": "04d8983b-8d45-4b43-8a2f-f8940a8d0529"
      },
      "source": [
        "df_2019"
      ],
      "execution_count": null,
      "outputs": [
        {
          "output_type": "execute_result",
          "data": {
            "text/html": [
              "<div>\n",
              "<style scoped>\n",
              "    .dataframe tbody tr th:only-of-type {\n",
              "        vertical-align: middle;\n",
              "    }\n",
              "\n",
              "    .dataframe tbody tr th {\n",
              "        vertical-align: top;\n",
              "    }\n",
              "\n",
              "    .dataframe thead th {\n",
              "        text-align: right;\n",
              "    }\n",
              "</style>\n",
              "<table border=\"1\" class=\"dataframe\">\n",
              "  <thead>\n",
              "    <tr style=\"text-align: right;\">\n",
              "      <th></th>\n",
              "      <th>id</th>\n",
              "      <th>name</th>\n",
              "      <th>appearances</th>\n",
              "      <th>points_per_game</th>\n",
              "      <th>goals</th>\n",
              "      <th>assists</th>\n",
              "    </tr>\n",
              "  </thead>\n",
              "  <tbody>\n",
              "    <tr>\n",
              "      <th>0</th>\n",
              "      <td>342229</td>\n",
              "      <td>Kylian Mbappé</td>\n",
              "      <td>37</td>\n",
              "      <td>2.57</td>\n",
              "      <td>30</td>\n",
              "      <td>18</td>\n",
              "    </tr>\n",
              "    <tr>\n",
              "      <th>1</th>\n",
              "      <td>68290</td>\n",
              "      <td>Neymar</td>\n",
              "      <td>27</td>\n",
              "      <td>2.52</td>\n",
              "      <td>19</td>\n",
              "      <td>12</td>\n",
              "    </tr>\n",
              "    <tr>\n",
              "      <th>2</th>\n",
              "      <td>200512</td>\n",
              "      <td>Sadio Mané</td>\n",
              "      <td>47</td>\n",
              "      <td>2.38</td>\n",
              "      <td>22</td>\n",
              "      <td>12</td>\n",
              "    </tr>\n",
              "    <tr>\n",
              "      <th>3</th>\n",
              "      <td>148455</td>\n",
              "      <td>Mohamed Salah</td>\n",
              "      <td>48</td>\n",
              "      <td>2.38</td>\n",
              "      <td>23</td>\n",
              "      <td>13</td>\n",
              "    </tr>\n",
              "    <tr>\n",
              "      <th>4</th>\n",
              "      <td>132098</td>\n",
              "      <td>Harry Kane</td>\n",
              "      <td>34</td>\n",
              "      <td>1.68</td>\n",
              "      <td>24</td>\n",
              "      <td>2</td>\n",
              "    </tr>\n",
              "    <tr>\n",
              "      <th>...</th>\n",
              "      <td>...</td>\n",
              "      <td>...</td>\n",
              "      <td>...</td>\n",
              "      <td>...</td>\n",
              "      <td>...</td>\n",
              "      <td>...</td>\n",
              "    </tr>\n",
              "    <tr>\n",
              "      <th>95</th>\n",
              "      <td>82009</td>\n",
              "      <td>Kevin Volland</td>\n",
              "      <td>40</td>\n",
              "      <td>1.70</td>\n",
              "      <td>12</td>\n",
              "      <td>10</td>\n",
              "    </tr>\n",
              "    <tr>\n",
              "      <th>96</th>\n",
              "      <td>45320</td>\n",
              "      <td>Ángel Di María</td>\n",
              "      <td>41</td>\n",
              "      <td>2.49</td>\n",
              "      <td>13</td>\n",
              "      <td>23</td>\n",
              "    </tr>\n",
              "    <tr>\n",
              "      <th>97</th>\n",
              "      <td>487465</td>\n",
              "      <td>Pedro Neto</td>\n",
              "      <td>44</td>\n",
              "      <td>1.73</td>\n",
              "      <td>5</td>\n",
              "      <td>5</td>\n",
              "    </tr>\n",
              "    <tr>\n",
              "      <th>98</th>\n",
              "      <td>242631</td>\n",
              "      <td>Alex Iwobi</td>\n",
              "      <td>29</td>\n",
              "      <td>1.24</td>\n",
              "      <td>2</td>\n",
              "      <td>1</td>\n",
              "    </tr>\n",
              "    <tr>\n",
              "      <th>99</th>\n",
              "      <td>655488</td>\n",
              "      <td>Gabriel Martinelli</td>\n",
              "      <td>26</td>\n",
              "      <td>1.54</td>\n",
              "      <td>10</td>\n",
              "      <td>4</td>\n",
              "    </tr>\n",
              "  </tbody>\n",
              "</table>\n",
              "<p>100 rows × 6 columns</p>\n",
              "</div>"
            ],
            "text/plain": [
              "        id                name appearances points_per_game goals assists\n",
              "0   342229       Kylian Mbappé          37            2.57    30      18\n",
              "1    68290              Neymar          27            2.52    19      12\n",
              "2   200512          Sadio Mané          47            2.38    22      12\n",
              "3   148455       Mohamed Salah          48            2.38    23      13\n",
              "4   132098          Harry Kane          34            1.68    24       2\n",
              "..     ...                 ...         ...             ...   ...     ...\n",
              "95   82009       Kevin Volland          40            1.70    12      10\n",
              "96   45320      Ángel Di María          41            2.49    13      23\n",
              "97  487465          Pedro Neto          44            1.73     5       5\n",
              "98  242631          Alex Iwobi          29            1.24     2       1\n",
              "99  655488  Gabriel Martinelli          26            1.54    10       4\n",
              "\n",
              "[100 rows x 6 columns]"
            ]
          },
          "metadata": {
            "tags": []
          },
          "execution_count": 10
        }
      ]
    },
    {
      "cell_type": "code",
      "metadata": {
        "id": "OugDzhweBlSd"
      },
      "source": [
        "df_2019.to_csv('2019')"
      ],
      "execution_count": null,
      "outputs": []
    },
    {
      "cell_type": "code",
      "metadata": {
        "id": "KFfPCb6URfyf"
      },
      "source": [
        "team_rank = []\n",
        "team_name = []\n",
        "for page in range(1,5):\n",
        "  url_team = \"https://www.transfermarkt.com/spieler-statistik/wertvollstemannschaften/marktwertetop?ajax=yw1&page={}\".format(page)\n",
        "  wd.get(url_team)\n",
        "  soup = BeautifulSoup(wd.page_source)\n",
        "  table = soup.find_all('table',{'class': 'items'})\n",
        "  rows = table[0].find_all('tr', {'class': ['odd', 'even']})\n",
        "\n",
        "  for row in rows:\n",
        "    tds = row.find_all('td')\n",
        "    team_rank.append(tds[0].text)\n",
        "    team_name.append(tds[2].find('a').text)"
      ],
      "execution_count": null,
      "outputs": []
    },
    {
      "cell_type": "code",
      "metadata": {
        "id": "0OlGiMmgXnMD"
      },
      "source": [
        "df_team = pd.DataFrame({'rank':team_rank, 'team_name':team_name})"
      ],
      "execution_count": null,
      "outputs": []
    },
    {
      "cell_type": "code",
      "metadata": {
        "colab": {
          "base_uri": "https://localhost:8080/",
          "height": 419
        },
        "id": "IxRMz9osXxSO",
        "outputId": "192b3f2e-8a57-4e70-c463-611f4513a5e1"
      },
      "source": [
        "df_team"
      ],
      "execution_count": null,
      "outputs": [
        {
          "output_type": "execute_result",
          "data": {
            "text/html": [
              "<div>\n",
              "<style scoped>\n",
              "    .dataframe tbody tr th:only-of-type {\n",
              "        vertical-align: middle;\n",
              "    }\n",
              "\n",
              "    .dataframe tbody tr th {\n",
              "        vertical-align: top;\n",
              "    }\n",
              "\n",
              "    .dataframe thead th {\n",
              "        text-align: right;\n",
              "    }\n",
              "</style>\n",
              "<table border=\"1\" class=\"dataframe\">\n",
              "  <thead>\n",
              "    <tr style=\"text-align: right;\">\n",
              "      <th></th>\n",
              "      <th>rank</th>\n",
              "      <th>team_name</th>\n",
              "    </tr>\n",
              "  </thead>\n",
              "  <tbody>\n",
              "    <tr>\n",
              "      <th>0</th>\n",
              "      <td>1</td>\n",
              "      <td>Liverpool FC</td>\n",
              "    </tr>\n",
              "    <tr>\n",
              "      <th>1</th>\n",
              "      <td>2</td>\n",
              "      <td>Manchester City</td>\n",
              "    </tr>\n",
              "    <tr>\n",
              "      <th>2</th>\n",
              "      <td>3</td>\n",
              "      <td>Paris Saint-Germain</td>\n",
              "    </tr>\n",
              "    <tr>\n",
              "      <th>3</th>\n",
              "      <td>4</td>\n",
              "      <td>Bayern Munich</td>\n",
              "    </tr>\n",
              "    <tr>\n",
              "      <th>4</th>\n",
              "      <td>5</td>\n",
              "      <td>FC Barcelona</td>\n",
              "    </tr>\n",
              "    <tr>\n",
              "      <th>...</th>\n",
              "      <td>...</td>\n",
              "      <td>...</td>\n",
              "    </tr>\n",
              "    <tr>\n",
              "      <th>95</th>\n",
              "      <td>96</td>\n",
              "      <td>FC Augsburg</td>\n",
              "    </tr>\n",
              "    <tr>\n",
              "      <th>96</th>\n",
              "      <td>97</td>\n",
              "      <td>Celtic FC</td>\n",
              "    </tr>\n",
              "    <tr>\n",
              "      <th>97</th>\n",
              "      <td>98</td>\n",
              "      <td>FC Nantes</td>\n",
              "    </tr>\n",
              "    <tr>\n",
              "      <th>98</th>\n",
              "      <td>99</td>\n",
              "      <td>SV Werder Bremen</td>\n",
              "    </tr>\n",
              "    <tr>\n",
              "      <th>99</th>\n",
              "      <td>100</td>\n",
              "      <td>Galatasaray SK</td>\n",
              "    </tr>\n",
              "  </tbody>\n",
              "</table>\n",
              "<p>100 rows × 2 columns</p>\n",
              "</div>"
            ],
            "text/plain": [
              "   rank            team_name\n",
              "0     1         Liverpool FC\n",
              "1     2      Manchester City\n",
              "2     3  Paris Saint-Germain\n",
              "3     4        Bayern Munich\n",
              "4     5         FC Barcelona\n",
              "..  ...                  ...\n",
              "95   96          FC Augsburg\n",
              "96   97            Celtic FC\n",
              "97   98            FC Nantes\n",
              "98   99     SV Werder Bremen\n",
              "99  100       Galatasaray SK\n",
              "\n",
              "[100 rows x 2 columns]"
            ]
          },
          "metadata": {
            "tags": []
          },
          "execution_count": 14
        }
      ]
    },
    {
      "cell_type": "code",
      "metadata": {
        "id": "5DC8Bc95YBen"
      },
      "source": [
        "df_team.to_csv('team')"
      ],
      "execution_count": null,
      "outputs": []
    },
    {
      "cell_type": "code",
      "metadata": {
        "id": "ZU1mnvg3Y_Av"
      },
      "source": [
        ""
      ],
      "execution_count": null,
      "outputs": []
    }
  ]
}